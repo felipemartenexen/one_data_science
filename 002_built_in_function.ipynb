{
  "nbformat": 4,
  "nbformat_minor": 0,
  "metadata": {
    "colab": {
      "provenance": [],
      "authorship_tag": "ABX9TyONaw/TpKCh1HFxjeRSOROY",
      "include_colab_link": true
    },
    "kernelspec": {
      "name": "python3",
      "display_name": "Python 3"
    },
    "language_info": {
      "name": "python"
    }
  },
  "cells": [
    {
      "cell_type": "markdown",
      "metadata": {
        "id": "view-in-github",
        "colab_type": "text"
      },
      "source": [
        "<a href=\"https://colab.research.google.com/github/felipemartenexen/one_data_science/blob/main/002_built_in_function.ipynb\" target=\"_parent\"><img src=\"https://colab.research.google.com/assets/colab-badge.svg\" alt=\"Open In Colab\"/></a>"
      ]
    },
    {
      "cell_type": "code",
      "execution_count": null,
      "metadata": {
        "colab": {
          "base_uri": "https://localhost:8080/"
        },
        "id": "_bE-HhNoviX-",
        "outputId": "5a1890b4-306a-4235-af1e-878b04802c70"
      },
      "outputs": [
        {
          "output_type": "execute_result",
          "data": {
            "text/plain": [
              "{'1 Trimestre': 8.5, '2 Trimestre': 9.5, '3 Trimestre': 7}"
            ]
          },
          "metadata": {},
          "execution_count": 3
        }
      ],
      "source": [
        "#Notas\n",
        "notas = {\n",
        "    '1 Trimestre': 8.5,\n",
        "    '2 Trimestre': 9.5,\n",
        "    '3 Trimestre': 7\n",
        "  }\n",
        "notas"
      ]
    },
    {
      "cell_type": "code",
      "source": [
        "# Calculando a soma\n",
        "soma = 0\n",
        "\n",
        "for nota in notas.values():\n",
        "  soma += nota\n",
        "\n",
        "soma"
      ],
      "metadata": {
        "colab": {
          "base_uri": "https://localhost:8080/"
        },
        "id": "EUbKwcO2vywy",
        "outputId": "d20e7bd4-5777-40a8-e5e0-a8d85c45cb94"
      },
      "execution_count": null,
      "outputs": [
        {
          "output_type": "execute_result",
          "data": {
            "text/plain": [
              "25.0"
            ]
          },
          "metadata": {},
          "execution_count": 4
        }
      ]
    },
    {
      "cell_type": "code",
      "source": [
        "# Usando a função embutida sum()\n",
        "soma = sum(notas.values())\n",
        "soma"
      ],
      "metadata": {
        "colab": {
          "base_uri": "https://localhost:8080/"
        },
        "id": "WdsTMFOVwXWE",
        "outputId": "5999ffd5-1d84-4316-b69f-ca96dfd070ea"
      },
      "execution_count": null,
      "outputs": [
        {
          "output_type": "execute_result",
          "data": {
            "text/plain": [
              "25.0"
            ]
          },
          "metadata": {},
          "execution_count": 5
        }
      ]
    },
    {
      "cell_type": "code",
      "source": [
        "# Usando a função embutida len()\n",
        "qtd_notas = len(notas)\n",
        "qtd_notas"
      ],
      "metadata": {
        "colab": {
          "base_uri": "https://localhost:8080/"
        },
        "id": "f8mS21Nrwfzp",
        "outputId": "8f46381d-d88e-4e92-c54b-6a4e67eb42c9"
      },
      "execution_count": null,
      "outputs": [
        {
          "output_type": "execute_result",
          "data": {
            "text/plain": [
              "3"
            ]
          },
          "metadata": {},
          "execution_count": 6
        }
      ]
    },
    {
      "cell_type": "code",
      "source": [
        "# Formas de usar o help\n",
        "help(round)\n",
        "round?"
      ],
      "metadata": {
        "colab": {
          "base_uri": "https://localhost:8080/"
        },
        "id": "14nfCFJKwlyg",
        "outputId": "3761ee04-7d23-4f66-d013-4e407c46c078"
      },
      "execution_count": null,
      "outputs": [
        {
          "output_type": "stream",
          "name": "stdout",
          "text": [
            "Help on built-in function round in module builtins:\n",
            "\n",
            "round(number, ndigits=None)\n",
            "    Round a number to a given precision in decimal digits.\n",
            "    \n",
            "    The return value is an integer if ndigits is omitted or None.  Otherwise\n",
            "    the return value has the same type as the number.  ndigits may be negative.\n",
            "\n"
          ]
        }
      ]
    },
    {
      "cell_type": "code",
      "source": [
        "# função média\n",
        "def media():\n",
        "  calculo = (10 + 9 + 8) / 3\n",
        "  print(calculo)\n",
        "\n",
        "media()"
      ],
      "metadata": {
        "colab": {
          "base_uri": "https://localhost:8080/"
        },
        "id": "QjK3IklFxUEy",
        "outputId": "cb284eb0-9248-41d4-bc47-b58dc7e026a5"
      },
      "execution_count": null,
      "outputs": [
        {
          "output_type": "stream",
          "name": "stdout",
          "text": [
            "9.0\n"
          ]
        }
      ]
    },
    {
      "cell_type": "code",
      "source": [
        "# função média com parâmetros\n",
        "def media(a, b, c):\n",
        "  calculo = (a + b + c) / 3\n",
        "  print(calculo)\n",
        "\n",
        "media(10, 9, 8)"
      ],
      "metadata": {
        "colab": {
          "base_uri": "https://localhost:8080/"
        },
        "id": "CedkYIL0yeKB",
        "outputId": "583d572e-1596-4c9c-8037-6e96efcdbeed"
      },
      "execution_count": null,
      "outputs": [
        {
          "output_type": "stream",
          "name": "stdout",
          "text": [
            "9.0\n"
          ]
        }
      ]
    },
    {
      "cell_type": "code",
      "source": [
        "notas = [8.5, 9.0, 6.0, 10.0]\n",
        "\n",
        "def media(lista):\n",
        "  calculo = sum(lista) / len(lista)\n",
        "  return calculo\n",
        "\n",
        "resultado = media(notas)\n",
        "resultado"
      ],
      "metadata": {
        "colab": {
          "base_uri": "https://localhost:8080/"
        },
        "id": "OYKAHt8ays40",
        "outputId": "509ea58d-e53e-4a47-d1a2-0bd805b9b09d"
      },
      "execution_count": null,
      "outputs": [
        {
          "output_type": "execute_result",
          "data": {
            "text/plain": [
              "8.375"
            ]
          },
          "metadata": {},
          "execution_count": 23
        }
      ]
    },
    {
      "cell_type": "code",
      "source": [
        "# função com return\n",
        "notas = [8.5, 9.0, 6.0, 10.0]\n",
        "\n",
        "def boletim(lista):\n",
        "  media = sum(lista) / len(lista)\n",
        "  if media >= 6:\n",
        "    situacao = 'Aprovado'\n",
        "  else:\n",
        "    situacao = 'Reprovado'\n",
        "  return (media, situacao)\n",
        "\n",
        "resultado = boletim(notas)\n",
        "\n",
        "media, situacao = boletim(notas)\n",
        "\n",
        "print(f\"O estudante atingiu a média de {media} e foi {situacao}.\")"
      ],
      "metadata": {
        "colab": {
          "base_uri": "https://localhost:8080/"
        },
        "id": "8H3LbvETzsXi",
        "outputId": "3e63bf2b-a8df-46d2-f00e-3e25651a7ac3"
      },
      "execution_count": null,
      "outputs": [
        {
          "output_type": "stream",
          "name": "stdout",
          "text": [
            "O estudante atingiu a média de 8.375 e foi Aprovado.\n"
          ]
        }
      ]
    },
    {
      "cell_type": "code",
      "source": [
        "# O Type Hint é uma sintaxe utilizada no Python para indicar o tipo de dado esperado de um parâmetro ou retorno de função, auxiliando na legibilidade e manutenção do código. Podemos dizer, em poucas palavras, que ela é a dica de tipagem dos dados.\n",
        "# a nossa função recebe uma lista do tipo list e retorna uma variável do tipo float\n",
        "def media(lista: list) -> float:\n",
        "  calculo = sum(lista) / len(lista)\n",
        "  return calculo"
      ],
      "metadata": {
        "id": "VNSq7BmL-w6d"
      },
      "execution_count": null,
      "outputs": []
    },
    {
      "cell_type": "code",
      "source": [
        "# recebendo notas e calculando a média ponderável\n",
        "n1 = float(input('Digite a primeira nota: '))\n",
        "n2 = float(input('Digite a segunda nota: '))\n",
        "n3 = float(input('Digite a terceira nota: '))\n",
        "\n",
        "media_ponderavel = lambda x, y, z: (x * 3 + y * 2 + z * 5) / 10\n",
        "\n",
        "media_estudante = media_ponderavel(n1, n2, n3)\n",
        "\n",
        "#exibindo a média\n",
        "print(f'A média do estudante é {media_estudante}.')"
      ],
      "metadata": {
        "colab": {
          "base_uri": "https://localhost:8080/"
        },
        "id": "TnGNBKZ6C7Kx",
        "outputId": "8fb8082f-c20f-438f-9874-7a481ad736fb"
      },
      "execution_count": null,
      "outputs": [
        {
          "output_type": "stream",
          "name": "stdout",
          "text": [
            "Digite a primeira nota: 8\n",
            "Digite a segunda nota: 5\n",
            "Digite a terceira nota: 9\n",
            "A média do estudante é 7.9.\n"
          ]
        }
      ]
    },
    {
      "cell_type": "code",
      "source": [
        "# Não conseguimos aplicar o lambda em listas direto, é necessário utilizarmos junto da função map\n",
        "notas = [8.5, 9.0, 6.0, 10.0]\n",
        "notas_atualizadas = map(lambda x: x + 0.5, notas)\n",
        "notas_atualizadas = list(notas_atualizadas)\n",
        "notas_atualizadas"
      ],
      "metadata": {
        "id": "fEi_F1SUGNFW",
        "colab": {
          "base_uri": "https://localhost:8080/"
        },
        "outputId": "0512530d-5a54-47c7-ace1-070e7e46fd7b"
      },
      "execution_count": 3,
      "outputs": [
        {
          "output_type": "execute_result",
          "data": {
            "text/plain": [
              "[9.0, 9.5, 6.5, 10.5]"
            ]
          },
          "metadata": {},
          "execution_count": 3
        }
      ]
    },
    {
      "cell_type": "code",
      "source": [
        "lista = [16, 14, 63, 65, 17, 99, 70, 11, 20, 48, 79, 32, 17, 89, 12, 25, 66]\n",
        "# Lendo o tamanho, maior e menor número e soma, respectivamente, utilizando as built-in functions\n",
        "tam = len(lista)\n",
        "maior = max(lista)\n",
        "menor = min(lista)\n",
        "soma = sum(lista)\n",
        "# Exibindo o texto\n",
        "print(f\"A lista possui {tam} números em que o maior número é {maior} e o menor número é {menor}. A soma dos valores  presentes nela é igual a {soma}.\")"
      ],
      "metadata": {
        "colab": {
          "base_uri": "https://localhost:8080/"
        },
        "id": "J-k5RYzUvfOW",
        "outputId": "b2c01f13-ceaf-4604-8130-e8cb6d276a34"
      },
      "execution_count": 15,
      "outputs": [
        {
          "output_type": "stream",
          "name": "stdout",
          "text": [
            "A lista possui 17 números em que o maior número é 99 e o menor número é 11. A soma dos valores  presentes nela é igual a 743.\n"
          ]
        }
      ]
    },
    {
      "cell_type": "code",
      "source": [
        "# Tabuada de um número inteiro de 1 a 10\n",
        "# Requisitando o número\n",
        "num = int(input(\"Digite um número inteiro de 1 a 10:\"))\n",
        "\n",
        "def tabuada(x):\n",
        "  for i in range(11):\n",
        "    print(f'{x} x {i} = {x * i}')\n",
        "\n",
        "tabuada(7)"
      ],
      "metadata": {
        "colab": {
          "base_uri": "https://localhost:8080/"
        },
        "id": "0POs-bEAvoHM",
        "outputId": "18f3e1ac-131d-420c-ba11-cd73634c81d6"
      },
      "execution_count": 16,
      "outputs": [
        {
          "output_type": "stream",
          "name": "stdout",
          "text": [
            "Digite um número inteiro de 1 a 10:7\n",
            "7 x 0 = 0\n",
            "7 x 1 = 7\n",
            "7 x 2 = 14\n",
            "7 x 3 = 21\n",
            "7 x 4 = 28\n",
            "7 x 5 = 35\n",
            "7 x 6 = 42\n",
            "7 x 7 = 49\n",
            "7 x 8 = 56\n",
            "7 x 9 = 63\n",
            "7 x 10 = 70\n"
          ]
        }
      ]
    },
    {
      "cell_type": "code",
      "source": [],
      "metadata": {
        "id": "MR0vizBVw2cY"
      },
      "execution_count": null,
      "outputs": []
    }
  ]
}